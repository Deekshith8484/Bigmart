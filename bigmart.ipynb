{
 "cells": [
  {
   "cell_type": "code",
   "execution_count": 5,
   "id": "initial_id",
   "metadata": {
    "collapsed": true,
    "ExecuteTime": {
     "end_time": "2023-11-13T21:47:11.552932500Z",
     "start_time": "2023-11-13T21:46:51.341920100Z"
    }
   },
   "outputs": [],
   "source": [
    "import pandas as pd\n",
    "import numpy as np\n",
    "import matplotlib.pyplot as plt\n",
    "import seaborn as sns\n",
    "from sklearn.model_selection import train_test_split\n",
    "import keras\n",
    "import tensorflow as tf\n",
    "from sklearn.preprocessing import LabelEncoder\n",
    "from sklearn.metrics import accuracy_score"
   ]
  },
  {
   "cell_type": "code",
   "execution_count": 6,
   "outputs": [
    {
     "data": {
      "text/plain": "     Item_Identifier  Item_Weight Item_Fat_Content  Item_Visibility  \\\n0              FDA15        9.300          Low Fat         0.016047   \n1              DRC01        5.920          Regular         0.019278   \n2              FDN15       17.500          Low Fat         0.016760   \n3              FDX07       19.200          Regular         0.000000   \n4              NCD19        8.930          Low Fat         0.000000   \n...              ...          ...              ...              ...   \n8518           FDF22        6.865          Low Fat         0.056783   \n8519           FDS36        8.380          Regular         0.046982   \n8520           NCJ29       10.600          Low Fat         0.035186   \n8521           FDN46        7.210          Regular         0.145221   \n8522           DRG01       14.800          Low Fat         0.044878   \n\n                  Item_Type  Item_MRP Outlet_Identifier  \\\n0                     Dairy  249.8092            OUT049   \n1               Soft Drinks   48.2692            OUT018   \n2                      Meat  141.6180            OUT049   \n3     Fruits and Vegetables  182.0950            OUT010   \n4                 Household   53.8614            OUT013   \n...                     ...       ...               ...   \n8518            Snack Foods  214.5218            OUT013   \n8519           Baking Goods  108.1570            OUT045   \n8520     Health and Hygiene   85.1224            OUT035   \n8521            Snack Foods  103.1332            OUT018   \n8522            Soft Drinks   75.4670            OUT046   \n\n      Outlet_Establishment_Year Outlet_Size Outlet_Location_Type  \\\n0                          1999      Medium               Tier 1   \n1                          2009      Medium               Tier 3   \n2                          1999      Medium               Tier 1   \n3                          1998         NaN               Tier 3   \n4                          1987        High               Tier 3   \n...                         ...         ...                  ...   \n8518                       1987        High               Tier 3   \n8519                       2002         NaN               Tier 2   \n8520                       2004       Small               Tier 2   \n8521                       2009      Medium               Tier 3   \n8522                       1997       Small               Tier 1   \n\n            Outlet_Type  Item_Outlet_Sales  \n0     Supermarket Type1          3735.1380  \n1     Supermarket Type2           443.4228  \n2     Supermarket Type1          2097.2700  \n3         Grocery Store           732.3800  \n4     Supermarket Type1           994.7052  \n...                 ...                ...  \n8518  Supermarket Type1          2778.3834  \n8519  Supermarket Type1           549.2850  \n8520  Supermarket Type1          1193.1136  \n8521  Supermarket Type2          1845.5976  \n8522  Supermarket Type1           765.6700  \n\n[8523 rows x 12 columns]",
      "text/html": "<div>\n<style scoped>\n    .dataframe tbody tr th:only-of-type {\n        vertical-align: middle;\n    }\n\n    .dataframe tbody tr th {\n        vertical-align: top;\n    }\n\n    .dataframe thead th {\n        text-align: right;\n    }\n</style>\n<table border=\"1\" class=\"dataframe\">\n  <thead>\n    <tr style=\"text-align: right;\">\n      <th></th>\n      <th>Item_Identifier</th>\n      <th>Item_Weight</th>\n      <th>Item_Fat_Content</th>\n      <th>Item_Visibility</th>\n      <th>Item_Type</th>\n      <th>Item_MRP</th>\n      <th>Outlet_Identifier</th>\n      <th>Outlet_Establishment_Year</th>\n      <th>Outlet_Size</th>\n      <th>Outlet_Location_Type</th>\n      <th>Outlet_Type</th>\n      <th>Item_Outlet_Sales</th>\n    </tr>\n  </thead>\n  <tbody>\n    <tr>\n      <th>0</th>\n      <td>FDA15</td>\n      <td>9.300</td>\n      <td>Low Fat</td>\n      <td>0.016047</td>\n      <td>Dairy</td>\n      <td>249.8092</td>\n      <td>OUT049</td>\n      <td>1999</td>\n      <td>Medium</td>\n      <td>Tier 1</td>\n      <td>Supermarket Type1</td>\n      <td>3735.1380</td>\n    </tr>\n    <tr>\n      <th>1</th>\n      <td>DRC01</td>\n      <td>5.920</td>\n      <td>Regular</td>\n      <td>0.019278</td>\n      <td>Soft Drinks</td>\n      <td>48.2692</td>\n      <td>OUT018</td>\n      <td>2009</td>\n      <td>Medium</td>\n      <td>Tier 3</td>\n      <td>Supermarket Type2</td>\n      <td>443.4228</td>\n    </tr>\n    <tr>\n      <th>2</th>\n      <td>FDN15</td>\n      <td>17.500</td>\n      <td>Low Fat</td>\n      <td>0.016760</td>\n      <td>Meat</td>\n      <td>141.6180</td>\n      <td>OUT049</td>\n      <td>1999</td>\n      <td>Medium</td>\n      <td>Tier 1</td>\n      <td>Supermarket Type1</td>\n      <td>2097.2700</td>\n    </tr>\n    <tr>\n      <th>3</th>\n      <td>FDX07</td>\n      <td>19.200</td>\n      <td>Regular</td>\n      <td>0.000000</td>\n      <td>Fruits and Vegetables</td>\n      <td>182.0950</td>\n      <td>OUT010</td>\n      <td>1998</td>\n      <td>NaN</td>\n      <td>Tier 3</td>\n      <td>Grocery Store</td>\n      <td>732.3800</td>\n    </tr>\n    <tr>\n      <th>4</th>\n      <td>NCD19</td>\n      <td>8.930</td>\n      <td>Low Fat</td>\n      <td>0.000000</td>\n      <td>Household</td>\n      <td>53.8614</td>\n      <td>OUT013</td>\n      <td>1987</td>\n      <td>High</td>\n      <td>Tier 3</td>\n      <td>Supermarket Type1</td>\n      <td>994.7052</td>\n    </tr>\n    <tr>\n      <th>...</th>\n      <td>...</td>\n      <td>...</td>\n      <td>...</td>\n      <td>...</td>\n      <td>...</td>\n      <td>...</td>\n      <td>...</td>\n      <td>...</td>\n      <td>...</td>\n      <td>...</td>\n      <td>...</td>\n      <td>...</td>\n    </tr>\n    <tr>\n      <th>8518</th>\n      <td>FDF22</td>\n      <td>6.865</td>\n      <td>Low Fat</td>\n      <td>0.056783</td>\n      <td>Snack Foods</td>\n      <td>214.5218</td>\n      <td>OUT013</td>\n      <td>1987</td>\n      <td>High</td>\n      <td>Tier 3</td>\n      <td>Supermarket Type1</td>\n      <td>2778.3834</td>\n    </tr>\n    <tr>\n      <th>8519</th>\n      <td>FDS36</td>\n      <td>8.380</td>\n      <td>Regular</td>\n      <td>0.046982</td>\n      <td>Baking Goods</td>\n      <td>108.1570</td>\n      <td>OUT045</td>\n      <td>2002</td>\n      <td>NaN</td>\n      <td>Tier 2</td>\n      <td>Supermarket Type1</td>\n      <td>549.2850</td>\n    </tr>\n    <tr>\n      <th>8520</th>\n      <td>NCJ29</td>\n      <td>10.600</td>\n      <td>Low Fat</td>\n      <td>0.035186</td>\n      <td>Health and Hygiene</td>\n      <td>85.1224</td>\n      <td>OUT035</td>\n      <td>2004</td>\n      <td>Small</td>\n      <td>Tier 2</td>\n      <td>Supermarket Type1</td>\n      <td>1193.1136</td>\n    </tr>\n    <tr>\n      <th>8521</th>\n      <td>FDN46</td>\n      <td>7.210</td>\n      <td>Regular</td>\n      <td>0.145221</td>\n      <td>Snack Foods</td>\n      <td>103.1332</td>\n      <td>OUT018</td>\n      <td>2009</td>\n      <td>Medium</td>\n      <td>Tier 3</td>\n      <td>Supermarket Type2</td>\n      <td>1845.5976</td>\n    </tr>\n    <tr>\n      <th>8522</th>\n      <td>DRG01</td>\n      <td>14.800</td>\n      <td>Low Fat</td>\n      <td>0.044878</td>\n      <td>Soft Drinks</td>\n      <td>75.4670</td>\n      <td>OUT046</td>\n      <td>1997</td>\n      <td>Small</td>\n      <td>Tier 1</td>\n      <td>Supermarket Type1</td>\n      <td>765.6700</td>\n    </tr>\n  </tbody>\n</table>\n<p>8523 rows × 12 columns</p>\n</div>"
     },
     "execution_count": 6,
     "metadata": {},
     "output_type": "execute_result"
    }
   ],
   "source": [
    "data=pd.read_csv('Data/train_XnW6LSF.csv')\n",
    "data"
   ],
   "metadata": {
    "collapsed": false,
    "ExecuteTime": {
     "end_time": "2023-11-13T21:47:11.692774500Z",
     "start_time": "2023-11-13T21:47:11.563483700Z"
    }
   },
   "id": "fb9088df79f70470"
  },
  {
   "cell_type": "code",
   "execution_count": 7,
   "outputs": [
    {
     "data": {
      "text/plain": "Item_Identifier                 0\nItem_Weight                  1463\nItem_Fat_Content                0\nItem_Visibility                 0\nItem_Type                       0\nItem_MRP                        0\nOutlet_Identifier               0\nOutlet_Establishment_Year       0\nOutlet_Size                  2410\nOutlet_Location_Type            0\nOutlet_Type                     0\nItem_Outlet_Sales               0\ndtype: int64"
     },
     "execution_count": 7,
     "metadata": {},
     "output_type": "execute_result"
    }
   ],
   "source": [
    "data.isnull().sum()"
   ],
   "metadata": {
    "collapsed": false,
    "ExecuteTime": {
     "end_time": "2023-11-13T21:47:11.726017700Z",
     "start_time": "2023-11-13T21:47:11.694775200Z"
    }
   },
   "id": "8f4369c406708d7e"
  },
  {
   "cell_type": "code",
   "execution_count": 8,
   "outputs": [
    {
     "data": {
      "text/plain": "<Axes: xlabel='Outlet_Size', ylabel='count'>"
     },
     "execution_count": 8,
     "metadata": {},
     "output_type": "execute_result"
    },
    {
     "data": {
      "text/plain": "<Figure size 640x480 with 1 Axes>",
      "image/png": "[encoded data removed]"
     },
     "metadata": {},
     "output_type": "display_data"
    }
   ],
   "source": [
    "sns.countplot(x='Outlet_Size',data=data,hue='Outlet_Type')"
   ],
   "metadata": {
    "collapsed": false,
    "ExecuteTime": {
     "end_time": "2023-11-13T21:47:12.723098400Z",
     "start_time": "2023-11-13T21:47:11.727033Z"
    }
   },
   "id": "1a0d99750bfb2e1e"
  },
  {
   "cell_type": "markdown",
   "source": [
    "## Changing catagorical Values"
   ],
   "metadata": {
    "collapsed": false
   },
   "id": "14b2b4cd1dad9eba"
  },
  {
   "cell_type": "code",
   "execution_count": 9,
   "outputs": [],
   "source": [
    "#As we have only two type of fat content with the different name,willa siign lf,lowfat & Low Fat will be 0,and reg&regular will be 1\n",
    "data['Item_Fat_Content']=data['Item_Fat_Content'].map({'Low Fat':0,'LF':0,'low fat':0,'Regular':1,'reg':1})\n",
    "data['Item_Type']=data['Item_Type'].map({'Baking Goods':0,'Canned':1,'Dairy':2,'Frozen Foods':3,'Fruits and Vegetables':4,\n",
    "                                         'Health and Hygiene':5,'Household':6,'Meat':7,'Snack Foods':8,'Soft Drinks':9})\n",
    "data['Outlet_Size']=data['Outlet_Size'].map({'High':0,'Medium':1,'Small':2,'12.857645184135976':1})\n",
    "data['Outlet_Location_Type']=data['Outlet_Location_Type'].map({'Tier 1':0,'Tier 2':1,'Tier 3':2})\n",
    "data['Outlet_Type']=data['Outlet_Type'].map({'Grocery Store':0,'Supermarket Type1':1,'Supermarket Type2':2,'Supermarket Type3':3})\n",
    "#for outlet and item identifier i will be using label encoder it will be easy for many rows\n",
    "## Using label encoder to convert the categorical data to numerical data \n",
    "lc=LabelEncoder()\n",
    "data['Outlet_Identifier']=lc.fit_transform(data.Outlet_Identifier)\n",
    "data['Item_Identifier']=lc.fit_transform(data.Item_Identifier)\n"
   ],
   "metadata": {
    "collapsed": false,
    "ExecuteTime": {
     "end_time": "2023-11-13T21:47:12.724101800Z",
     "start_time": "2023-11-13T21:47:12.618161500Z"
    }
   },
   "id": "16722e96aab523f7"
  },
  {
   "cell_type": "markdown",
   "source": [
    "## Filling missing values"
   ],
   "metadata": {
    "collapsed": false
   },
   "id": "2f29254ba098a1ce"
  },
  {
   "cell_type": "code",
   "execution_count": 10,
   "outputs": [
    {
     "data": {
      "text/plain": "Item_Identifier                 0\nItem_Weight                  1463\nItem_Fat_Content                0\nItem_Visibility                 0\nItem_Type                     956\nItem_MRP                        0\nOutlet_Identifier               0\nOutlet_Establishment_Year       0\nOutlet_Size                  2410\nOutlet_Location_Type            0\nOutlet_Type                     0\nItem_Outlet_Sales               0\ndtype: int64"
     },
     "execution_count": 10,
     "metadata": {},
     "output_type": "execute_result"
    }
   ],
   "source": [
    "data.isnull().sum()"
   ],
   "metadata": {
    "collapsed": false,
    "ExecuteTime": {
     "end_time": "2023-11-13T21:47:12.726102100Z",
     "start_time": "2023-11-13T21:47:12.673964600Z"
    }
   },
   "id": "3cb0175007270c6c"
  },
  {
   "cell_type": "code",
   "execution_count": 11,
   "outputs": [],
   "source": [
    "data.fillna(data['Item_Weight'].mean(),inplace=True)\n",
    "#As we have all of them in medium stores so we  fill the NAN value with Medium\n",
    "data.loc[data['Outlet_Size'].isnull()==True,'Outlet_Size']=1.0"
   ],
   "metadata": {
    "collapsed": false,
    "ExecuteTime": {
     "end_time": "2023-11-13T21:47:12.739729100Z",
     "start_time": "2023-11-13T21:47:12.702540400Z"
    }
   },
   "id": "5e73a5432836a840"
  },
  {
   "cell_type": "code",
   "execution_count": 12,
   "outputs": [
    {
     "data": {
      "text/plain": "      Item_Identifier  Item_Weight  Item_Fat_Content  Item_Visibility  \\\n0                 156        9.300                 0         0.016047   \n1                   8        5.920                 1         0.019278   \n2                 662       17.500                 0         0.016760   \n3                1121       19.200                 1         0.000000   \n4                1297        8.930                 0         0.000000   \n...               ...          ...               ...              ...   \n8518              370        6.865                 0         0.056783   \n8519              897        8.380                 1         0.046982   \n8520             1357       10.600                 0         0.035186   \n8521              681        7.210                 1         0.145221   \n8522               50       14.800                 0         0.044878   \n\n      Item_Type  Item_MRP  Outlet_Identifier  Outlet_Establishment_Year  \\\n0           2.0  249.8092                  9                       1999   \n1           9.0   48.2692                  3                       2009   \n2           7.0  141.6180                  9                       1999   \n3           4.0  182.0950                  0                       1998   \n4           6.0   53.8614                  1                       1987   \n...         ...       ...                ...                        ...   \n8518        8.0  214.5218                  1                       1987   \n8519        0.0  108.1570                  7                       2002   \n8520        5.0   85.1224                  6                       2004   \n8521        8.0  103.1332                  3                       2009   \n8522        9.0   75.4670                  8                       1997   \n\n      Outlet_Size  Outlet_Location_Type  Outlet_Type  Item_Outlet_Sales  \n0        1.000000                     0            1          3735.1380  \n1        1.000000                     2            2           443.4228  \n2        1.000000                     0            1          2097.2700  \n3       12.857645                     2            0           732.3800  \n4        0.000000                     2            1           994.7052  \n...           ...                   ...          ...                ...  \n8518     0.000000                     2            1          2778.3834  \n8519    12.857645                     1            1           549.2850  \n8520     2.000000                     1            1          1193.1136  \n8521     1.000000                     2            2          1845.5976  \n8522     2.000000                     0            1           765.6700  \n\n[8523 rows x 12 columns]",
      "text/html": "<div>\n<style scoped>\n    .dataframe tbody tr th:only-of-type {\n        vertical-align: middle;\n    }\n\n    .dataframe tbody tr th {\n        vertical-align: top;\n    }\n\n    .dataframe thead th {\n        text-align: right;\n    }\n</style>\n<table border=\"1\" class=\"dataframe\">\n  <thead>\n    <tr style=\"text-align: right;\">\n      <th></th>\n      <th>Item_Identifier</th>\n      <th>Item_Weight</th>\n      <th>Item_Fat_Content</th>\n      <th>Item_Visibility</th>\n      <th>Item_Type</th>\n      <th>Item_MRP</th>\n      <th>Outlet_Identifier</th>\n      <th>Outlet_Establishment_Year</th>\n      <th>Outlet_Size</th>\n      <th>Outlet_Location_Type</th>\n      <th>Outlet_Type</th>\n      <th>Item_Outlet_Sales</th>\n    </tr>\n  </thead>\n  <tbody>\n    <tr>\n      <th>0</th>\n      <td>156</td>\n      <td>9.300</td>\n      <td>0</td>\n      <td>0.016047</td>\n      <td>2.0</td>\n      <td>249.8092</td>\n      <td>9</td>\n      <td>1999</td>\n      <td>1.000000</td>\n      <td>0</td>\n      <td>1</td>\n      <td>3735.1380</td>\n    </tr>\n    <tr>\n      <th>1</th>\n      <td>8</td>\n      <td>5.920</td>\n      <td>1</td>\n      <td>0.019278</td>\n      <td>9.0</td>\n      <td>48.2692</td>\n      <td>3</td>\n      <td>2009</td>\n      <td>1.000000</td>\n      <td>2</td>\n      <td>2</td>\n      <td>443.4228</td>\n    </tr>\n    <tr>\n      <th>2</th>\n      <td>662</td>\n      <td>17.500</td>\n      <td>0</td>\n      <td>0.016760</td>\n      <td>7.0</td>\n      <td>141.6180</td>\n      <td>9</td>\n      <td>1999</td>\n      <td>1.000000</td>\n      <td>0</td>\n      <td>1</td>\n      <td>2097.2700</td>\n    </tr>\n    <tr>\n      <th>3</th>\n      <td>1121</td>\n      <td>19.200</td>\n      <td>1</td>\n      <td>0.000000</td>\n      <td>4.0</td>\n      <td>182.0950</td>\n      <td>0</td>\n      <td>1998</td>\n      <td>12.857645</td>\n      <td>2</td>\n      <td>0</td>\n      <td>732.3800</td>\n    </tr>\n    <tr>\n      <th>4</th>\n      <td>1297</td>\n      <td>8.930</td>\n      <td>0</td>\n      <td>0.000000</td>\n      <td>6.0</td>\n      <td>53.8614</td>\n      <td>1</td>\n      <td>1987</td>\n      <td>0.000000</td>\n      <td>2</td>\n      <td>1</td>\n      <td>994.7052</td>\n    </tr>\n    <tr>\n      <th>...</th>\n      <td>...</td>\n      <td>...</td>\n      <td>...</td>\n      <td>...</td>\n      <td>...</td>\n      <td>...</td>\n      <td>...</td>\n      <td>...</td>\n      <td>...</td>\n      <td>...</td>\n      <td>...</td>\n      <td>...</td>\n    </tr>\n    <tr>\n      <th>8518</th>\n      <td>370</td>\n      <td>6.865</td>\n      <td>0</td>\n      <td>0.056783</td>\n      <td>8.0</td>\n      <td>214.5218</td>\n      <td>1</td>\n      <td>1987</td>\n      <td>0.000000</td>\n      <td>2</td>\n      <td>1</td>\n      <td>2778.3834</td>\n    </tr>\n    <tr>\n      <th>8519</th>\n      <td>897</td>\n      <td>8.380</td>\n      <td>1</td>\n      <td>0.046982</td>\n      <td>0.0</td>\n      <td>108.1570</td>\n      <td>7</td>\n      <td>2002</td>\n      <td>12.857645</td>\n      <td>1</td>\n      <td>1</td>\n      <td>549.2850</td>\n    </tr>\n    <tr>\n      <th>8520</th>\n      <td>1357</td>\n      <td>10.600</td>\n      <td>0</td>\n      <td>0.035186</td>\n      <td>5.0</td>\n      <td>85.1224</td>\n      <td>6</td>\n      <td>2004</td>\n      <td>2.000000</td>\n      <td>1</td>\n      <td>1</td>\n      <td>1193.1136</td>\n    </tr>\n    <tr>\n      <th>8521</th>\n      <td>681</td>\n      <td>7.210</td>\n      <td>1</td>\n      <td>0.145221</td>\n      <td>8.0</td>\n      <td>103.1332</td>\n      <td>3</td>\n      <td>2009</td>\n      <td>1.000000</td>\n      <td>2</td>\n      <td>2</td>\n      <td>1845.5976</td>\n    </tr>\n    <tr>\n      <th>8522</th>\n      <td>50</td>\n      <td>14.800</td>\n      <td>0</td>\n      <td>0.044878</td>\n      <td>9.0</td>\n      <td>75.4670</td>\n      <td>8</td>\n      <td>1997</td>\n      <td>2.000000</td>\n      <td>0</td>\n      <td>1</td>\n      <td>765.6700</td>\n    </tr>\n  </tbody>\n</table>\n<p>8523 rows × 12 columns</p>\n</div>"
     },
     "execution_count": 12,
     "metadata": {},
     "output_type": "execute_result"
    }
   ],
   "source": [
    "data"
   ],
   "metadata": {
    "collapsed": false,
    "ExecuteTime": {
     "end_time": "2023-11-13T21:47:12.894244500Z",
     "start_time": "2023-11-13T21:47:12.738732300Z"
    }
   },
   "id": "803a4bd57984b518"
  },
  {
   "cell_type": "code",
   "execution_count": 13,
   "outputs": [
    {
     "data": {
      "text/plain": "      Item_Identifier  Item_Weight  Item_Fat_Content  Item_Visibility  \\\n0                 156        9.300                 0         0.016047   \n1                   8        5.920                 1         0.019278   \n2                 662       17.500                 0         0.016760   \n3                1121       19.200                 1         0.000000   \n4                1297        8.930                 0         0.000000   \n...               ...          ...               ...              ...   \n8518              370        6.865                 0         0.056783   \n8519              897        8.380                 1         0.046982   \n8520             1357       10.600                 0         0.035186   \n8521              681        7.210                 1         0.145221   \n8522               50       14.800                 0         0.044878   \n\n      Item_Type  Item_MRP  Outlet_Identifier  Outlet_Establishment_Year  \\\n0           2.0  249.8092                  9                       1999   \n1           9.0   48.2692                  3                       2009   \n2           7.0  141.6180                  9                       1999   \n3           4.0  182.0950                  0                       1998   \n4           6.0   53.8614                  1                       1987   \n...         ...       ...                ...                        ...   \n8518        8.0  214.5218                  1                       1987   \n8519        0.0  108.1570                  7                       2002   \n8520        5.0   85.1224                  6                       2004   \n8521        8.0  103.1332                  3                       2009   \n8522        9.0   75.4670                  8                       1997   \n\n      Outlet_Size  Outlet_Location_Type  Outlet_Type  Item_Outlet_Sales  \n0        1.000000                     0            1          3735.1380  \n1        1.000000                     2            2           443.4228  \n2        1.000000                     0            1          2097.2700  \n3       12.857645                     2            0           732.3800  \n4        0.000000                     2            1           994.7052  \n...           ...                   ...          ...                ...  \n8518     0.000000                     2            1          2778.3834  \n8519    12.857645                     1            1           549.2850  \n8520     2.000000                     1            1          1193.1136  \n8521     1.000000                     2            2          1845.5976  \n8522     2.000000                     0            1           765.6700  \n\n[8523 rows x 12 columns]",
      "text/html": "<div>\n<style scoped>\n    .dataframe tbody tr th:only-of-type {\n        vertical-align: middle;\n    }\n\n    .dataframe tbody tr th {\n        vertical-align: top;\n    }\n\n    .dataframe thead th {\n        text-align: right;\n    }\n</style>\n<table border=\"1\" class=\"dataframe\">\n  <thead>\n    <tr style=\"text-align: right;\">\n      <th></th>\n      <th>Item_Identifier</th>\n      <th>Item_Weight</th>\n      <th>Item_Fat_Content</th>\n      <th>Item_Visibility</th>\n      <th>Item_Type</th>\n      <th>Item_MRP</th>\n      <th>Outlet_Identifier</th>\n      <th>Outlet_Establishment_Year</th>\n      <th>Outlet_Size</th>\n      <th>Outlet_Location_Type</th>\n      <th>Outlet_Type</th>\n      <th>Item_Outlet_Sales</th>\n    </tr>\n  </thead>\n  <tbody>\n    <tr>\n      <th>0</th>\n      <td>156</td>\n      <td>9.300</td>\n      <td>0</td>\n      <td>0.016047</td>\n      <td>2.0</td>\n      <td>249.8092</td>\n      <td>9</td>\n      <td>1999</td>\n      <td>1.000000</td>\n      <td>0</td>\n      <td>1</td>\n      <td>3735.1380</td>\n    </tr>\n    <tr>\n      <th>1</th>\n      <td>8</td>\n      <td>5.920</td>\n      <td>1</td>\n      <td>0.019278</td>\n      <td>9.0</td>\n      <td>48.2692</td>\n      <td>3</td>\n      <td>2009</td>\n      <td>1.000000</td>\n      <td>2</td>\n      <td>2</td>\n      <td>443.4228</td>\n    </tr>\n    <tr>\n      <th>2</th>\n      <td>662</td>\n      <td>17.500</td>\n      <td>0</td>\n      <td>0.016760</td>\n      <td>7.0</td>\n      <td>141.6180</td>\n      <td>9</td>\n      <td>1999</td>\n      <td>1.000000</td>\n      <td>0</td>\n      <td>1</td>\n      <td>2097.2700</td>\n    </tr>\n    <tr>\n      <th>3</th>\n      <td>1121</td>\n      <td>19.200</td>\n      <td>1</td>\n      <td>0.000000</td>\n      <td>4.0</td>\n      <td>182.0950</td>\n      <td>0</td>\n      <td>1998</td>\n      <td>12.857645</td>\n      <td>2</td>\n      <td>0</td>\n      <td>732.3800</td>\n    </tr>\n    <tr>\n      <th>4</th>\n      <td>1297</td>\n      <td>8.930</td>\n      <td>0</td>\n      <td>0.000000</td>\n      <td>6.0</td>\n      <td>53.8614</td>\n      <td>1</td>\n      <td>1987</td>\n      <td>0.000000</td>\n      <td>2</td>\n      <td>1</td>\n      <td>994.7052</td>\n    </tr>\n    <tr>\n      <th>...</th>\n      <td>...</td>\n      <td>...</td>\n      <td>...</td>\n      <td>...</td>\n      <td>...</td>\n      <td>...</td>\n      <td>...</td>\n      <td>...</td>\n      <td>...</td>\n      <td>...</td>\n      <td>...</td>\n      <td>...</td>\n    </tr>\n    <tr>\n      <th>8518</th>\n      <td>370</td>\n      <td>6.865</td>\n      <td>0</td>\n      <td>0.056783</td>\n      <td>8.0</td>\n      <td>214.5218</td>\n      <td>1</td>\n      <td>1987</td>\n      <td>0.000000</td>\n      <td>2</td>\n      <td>1</td>\n      <td>2778.3834</td>\n    </tr>\n    <tr>\n      <th>8519</th>\n      <td>897</td>\n      <td>8.380</td>\n      <td>1</td>\n      <td>0.046982</td>\n      <td>0.0</td>\n      <td>108.1570</td>\n      <td>7</td>\n      <td>2002</td>\n      <td>12.857645</td>\n      <td>1</td>\n      <td>1</td>\n      <td>549.2850</td>\n    </tr>\n    <tr>\n      <th>8520</th>\n      <td>1357</td>\n      <td>10.600</td>\n      <td>0</td>\n      <td>0.035186</td>\n      <td>5.0</td>\n      <td>85.1224</td>\n      <td>6</td>\n      <td>2004</td>\n      <td>2.000000</td>\n      <td>1</td>\n      <td>1</td>\n      <td>1193.1136</td>\n    </tr>\n    <tr>\n      <th>8521</th>\n      <td>681</td>\n      <td>7.210</td>\n      <td>1</td>\n      <td>0.145221</td>\n      <td>8.0</td>\n      <td>103.1332</td>\n      <td>3</td>\n      <td>2009</td>\n      <td>1.000000</td>\n      <td>2</td>\n      <td>2</td>\n      <td>1845.5976</td>\n    </tr>\n    <tr>\n      <th>8522</th>\n      <td>50</td>\n      <td>14.800</td>\n      <td>0</td>\n      <td>0.044878</td>\n      <td>9.0</td>\n      <td>75.4670</td>\n      <td>8</td>\n      <td>1997</td>\n      <td>2.000000</td>\n      <td>0</td>\n      <td>1</td>\n      <td>765.6700</td>\n    </tr>\n  </tbody>\n</table>\n<p>8523 rows × 12 columns</p>\n</div>"
     },
     "execution_count": 13,
     "metadata": {},
     "output_type": "execute_result"
    }
   ],
   "source": [
    "data"
   ],
   "metadata": {
    "collapsed": false,
    "ExecuteTime": {
     "end_time": "2023-11-13T21:47:12.896246700Z",
     "start_time": "2023-11-13T21:47:12.782700700Z"
    }
   },
   "id": "23dd17bc08c65b07"
  },
  {
   "cell_type": "markdown",
   "source": [
    "## Bringing all the values to 0 to 1 \n",
    " # X=(X-Xmin)/(Xmax-Xmin)"
   ],
   "metadata": {
    "collapsed": false
   },
   "id": "f93260a5c41a49e3"
  },
  {
   "cell_type": "code",
   "execution_count": 14,
   "outputs": [],
   "source": [
    "for i in data.columns[1:]:\n",
    "    data[i]=(data[i]-data[i].min())/(data[i].max()-data[i].min())"
   ],
   "metadata": {
    "collapsed": false,
    "ExecuteTime": {
     "end_time": "2023-11-13T21:47:12.897241400Z",
     "start_time": "2023-11-13T21:47:12.816591500Z"
    }
   },
   "id": "5224608215dc1fc8"
  },
  {
   "cell_type": "code",
   "execution_count": 15,
   "outputs": [],
   "source": [
    "data['Item_Identifier']=data.Item_Identifier.astype(float)"
   ],
   "metadata": {
    "collapsed": false,
    "ExecuteTime": {
     "end_time": "2023-11-13T21:47:12.912352200Z",
     "start_time": "2023-11-13T21:47:12.846874800Z"
    }
   },
   "id": "3fc38298a270f480"
  },
  {
   "cell_type": "code",
   "execution_count": 16,
   "outputs": [
    {
     "data": {
      "text/plain": "      Item_Identifier  Item_Weight  Item_Fat_Content  Item_Visibility  \\\n0               156.0     0.282525               0.0         0.048866   \n1                 8.0     0.081274               1.0         0.058705   \n2               662.0     0.770765               0.0         0.051037   \n3              1121.0     0.871986               1.0         0.000000   \n4              1297.0     0.260494               0.0         0.000000   \n...               ...          ...               ...              ...   \n8518            370.0     0.137541               0.0         0.172914   \n8519            897.0     0.227746               1.0         0.143069   \n8520           1357.0     0.359929               0.0         0.107148   \n8521            681.0     0.158083               1.0         0.442219   \n8522             50.0     0.610003               0.0         0.136661   \n\n      Item_Type  Item_MRP  Outlet_Identifier  Outlet_Establishment_Year  \\\n0      0.155549  0.927507           1.000000                   0.583333   \n1      0.699973  0.072068           0.333333                   1.000000   \n2      0.544423  0.468288           1.000000                   0.583333   \n3      0.311099  0.640093           0.000000                   0.541667   \n4      0.466648  0.095805           0.111111                   0.083333   \n...         ...       ...                ...                        ...   \n8518   0.622198  0.777729           0.111111                   0.083333   \n8519   0.000000  0.326263           0.777778                   0.708333   \n8520   0.388874  0.228492           0.666667                   0.791667   \n8521   0.622198  0.304939           0.333333                   1.000000   \n8522   0.699973  0.187510           0.888889                   0.500000   \n\n      Outlet_Size  Outlet_Location_Type  Outlet_Type  Item_Outlet_Sales  \n0        0.077775                   0.0     0.333333           0.283587  \n1        0.077775                   1.0     0.666667           0.031419  \n2        0.077775                   0.0     0.333333           0.158115  \n3        1.000000                   1.0     0.000000           0.053555  \n4        0.000000                   1.0     0.333333           0.073651  \n...           ...                   ...          ...                ...  \n8518     0.000000                   1.0     0.333333           0.210293  \n8519     1.000000                   0.5     0.333333           0.039529  \n8520     0.155549                   0.5     0.333333           0.088850  \n8521     0.077775                   1.0     0.666667           0.138835  \n8522     0.155549                   0.0     0.333333           0.056105  \n\n[8523 rows x 12 columns]",
      "text/html": "<div>\n<style scoped>\n    .dataframe tbody tr th:only-of-type {\n        vertical-align: middle;\n    }\n\n    .dataframe tbody tr th {\n        vertical-align: top;\n    }\n\n    .dataframe thead th {\n        text-align: right;\n    }\n</style>\n<table border=\"1\" class=\"dataframe\">\n  <thead>\n    <tr style=\"text-align: right;\">\n      <th></th>\n      <th>Item_Identifier</th>\n      <th>Item_Weight</th>\n      <th>Item_Fat_Content</th>\n      <th>Item_Visibility</th>\n      <th>Item_Type</th>\n      <th>Item_MRP</th>\n      <th>Outlet_Identifier</th>\n      <th>Outlet_Establishment_Year</th>\n      <th>Outlet_Size</th>\n      <th>Outlet_Location_Type</th>\n      <th>Outlet_Type</th>\n      <th>Item_Outlet_Sales</th>\n    </tr>\n  </thead>\n  <tbody>\n    <tr>\n      <th>0</th>\n      <td>156.0</td>\n      <td>0.282525</td>\n      <td>0.0</td>\n      <td>0.048866</td>\n      <td>0.155549</td>\n      <td>0.927507</td>\n      <td>1.000000</td>\n      <td>0.583333</td>\n      <td>0.077775</td>\n      <td>0.0</td>\n      <td>0.333333</td>\n      <td>0.283587</td>\n    </tr>\n    <tr>\n      <th>1</th>\n      <td>8.0</td>\n      <td>0.081274</td>\n      <td>1.0</td>\n      <td>0.058705</td>\n      <td>0.699973</td>\n      <td>0.072068</td>\n      <td>0.333333</td>\n      <td>1.000000</td>\n      <td>0.077775</td>\n      <td>1.0</td>\n      <td>0.666667</td>\n      <td>0.031419</td>\n    </tr>\n    <tr>\n      <th>2</th>\n      <td>662.0</td>\n      <td>0.770765</td>\n      <td>0.0</td>\n      <td>0.051037</td>\n      <td>0.544423</td>\n      <td>0.468288</td>\n      <td>1.000000</td>\n      <td>0.583333</td>\n      <td>0.077775</td>\n      <td>0.0</td>\n      <td>0.333333</td>\n      <td>0.158115</td>\n    </tr>\n    <tr>\n      <th>3</th>\n      <td>1121.0</td>\n      <td>0.871986</td>\n      <td>1.0</td>\n      <td>0.000000</td>\n      <td>0.311099</td>\n      <td>0.640093</td>\n      <td>0.000000</td>\n      <td>0.541667</td>\n      <td>1.000000</td>\n      <td>1.0</td>\n      <td>0.000000</td>\n      <td>0.053555</td>\n    </tr>\n    <tr>\n      <th>4</th>\n      <td>1297.0</td>\n      <td>0.260494</td>\n      <td>0.0</td>\n      <td>0.000000</td>\n      <td>0.466648</td>\n      <td>0.095805</td>\n      <td>0.111111</td>\n      <td>0.083333</td>\n      <td>0.000000</td>\n      <td>1.0</td>\n      <td>0.333333</td>\n      <td>0.073651</td>\n    </tr>\n    <tr>\n      <th>...</th>\n      <td>...</td>\n      <td>...</td>\n      <td>...</td>\n      <td>...</td>\n      <td>...</td>\n      <td>...</td>\n      <td>...</td>\n      <td>...</td>\n      <td>...</td>\n      <td>...</td>\n      <td>...</td>\n      <td>...</td>\n    </tr>\n    <tr>\n      <th>8518</th>\n      <td>370.0</td>\n      <td>0.137541</td>\n      <td>0.0</td>\n      <td>0.172914</td>\n      <td>0.622198</td>\n      <td>0.777729</td>\n      <td>0.111111</td>\n      <td>0.083333</td>\n      <td>0.000000</td>\n      <td>1.0</td>\n      <td>0.333333</td>\n      <td>0.210293</td>\n    </tr>\n    <tr>\n      <th>8519</th>\n      <td>897.0</td>\n      <td>0.227746</td>\n      <td>1.0</td>\n      <td>0.143069</td>\n      <td>0.000000</td>\n      <td>0.326263</td>\n      <td>0.777778</td>\n      <td>0.708333</td>\n      <td>1.000000</td>\n      <td>0.5</td>\n      <td>0.333333</td>\n      <td>0.039529</td>\n    </tr>\n    <tr>\n      <th>8520</th>\n      <td>1357.0</td>\n      <td>0.359929</td>\n      <td>0.0</td>\n      <td>0.107148</td>\n      <td>0.388874</td>\n      <td>0.228492</td>\n      <td>0.666667</td>\n      <td>0.791667</td>\n      <td>0.155549</td>\n      <td>0.5</td>\n      <td>0.333333</td>\n      <td>0.088850</td>\n    </tr>\n    <tr>\n      <th>8521</th>\n      <td>681.0</td>\n      <td>0.158083</td>\n      <td>1.0</td>\n      <td>0.442219</td>\n      <td>0.622198</td>\n      <td>0.304939</td>\n      <td>0.333333</td>\n      <td>1.000000</td>\n      <td>0.077775</td>\n      <td>1.0</td>\n      <td>0.666667</td>\n      <td>0.138835</td>\n    </tr>\n    <tr>\n      <th>8522</th>\n      <td>50.0</td>\n      <td>0.610003</td>\n      <td>0.0</td>\n      <td>0.136661</td>\n      <td>0.699973</td>\n      <td>0.187510</td>\n      <td>0.888889</td>\n      <td>0.500000</td>\n      <td>0.155549</td>\n      <td>0.0</td>\n      <td>0.333333</td>\n      <td>0.056105</td>\n    </tr>\n  </tbody>\n</table>\n<p>8523 rows × 12 columns</p>\n</div>"
     },
     "execution_count": 16,
     "metadata": {},
     "output_type": "execute_result"
    }
   ],
   "source": [
    "data"
   ],
   "metadata": {
    "collapsed": false,
    "ExecuteTime": {
     "end_time": "2023-11-13T21:47:12.929377100Z",
     "start_time": "2023-11-13T21:47:12.861910100Z"
    }
   },
   "id": "f4e20949bdc9274"
  },
  {
   "cell_type": "code",
   "execution_count": 17,
   "outputs": [],
   "source": [
    "data=data.drop('Item_Identifier',axis=1)"
   ],
   "metadata": {
    "collapsed": false,
    "ExecuteTime": {
     "end_time": "2023-11-13T21:47:13.040962900Z",
     "start_time": "2023-11-13T21:47:12.915352200Z"
    }
   },
   "id": "1b0469acf1545040"
  },
  {
   "cell_type": "code",
   "execution_count": 18,
   "outputs": [],
   "source": [
    "#separeting item Outlet sales\n",
    "# storing all the independent variables as X\n",
    "#Removing the Loan_ID colum which is not needed\n",
    "X=data.drop('Item_Outlet_Sales',axis=1)\n",
    "#storing target value\n",
    "y=data['Item_Outlet_Sales']"
   ],
   "metadata": {
    "collapsed": false,
    "ExecuteTime": {
     "end_time": "2023-11-13T21:47:13.042971300Z",
     "start_time": "2023-11-13T21:47:12.950461400Z"
    }
   },
   "id": "c836fe98b3bdab46"
  },
  {
   "cell_type": "code",
   "execution_count": 19,
   "outputs": [
    {
     "data": {
      "text/plain": "((8523, 10), (8523,))"
     },
     "execution_count": 19,
     "metadata": {},
     "output_type": "execute_result"
    }
   ],
   "source": [
    "X.shape,y.shape"
   ],
   "metadata": {
    "collapsed": false,
    "ExecuteTime": {
     "end_time": "2023-11-13T21:47:13.043970600Z",
     "start_time": "2023-11-13T21:47:12.974524400Z"
    }
   },
   "id": "6b5c4e4ad165d6fc"
  },
  {
   "cell_type": "code",
   "execution_count": 20,
   "outputs": [
    {
     "data": {
      "text/plain": "0       0.283587\n1       0.031419\n2       0.158115\n3       0.053555\n4       0.073651\n          ...   \n8518    0.210293\n8519    0.039529\n8520    0.088850\n8521    0.138835\n8522    0.056105\nName: Item_Outlet_Sales, Length: 8523, dtype: float64"
     },
     "execution_count": 20,
     "metadata": {},
     "output_type": "execute_result"
    }
   ],
   "source": [
    "y"
   ],
   "metadata": {
    "collapsed": false,
    "ExecuteTime": {
     "end_time": "2023-11-13T21:47:13.474538800Z",
     "start_time": "2023-11-13T21:47:13.000747700Z"
    }
   },
   "id": "6d9c737f0a1e1f9e"
  },
  {
   "cell_type": "markdown",
   "source": [
    "## Creating Traing and Validation set"
   ],
   "metadata": {
    "collapsed": false
   },
   "id": "2fa82ff796417339"
  },
  {
   "cell_type": "code",
   "execution_count": 21,
   "outputs": [
    {
     "name": "stdout",
     "output_type": "stream",
     "text": [
      "(8523, 10) (6818, 10) (1705, 10)\n"
     ]
    }
   ],
   "source": [
    "# Creating training and validation set\n",
    "\n",
    "# stratify will make sure that the distribution of classes in train and validation set it similar\n",
    "# random state to regenerate the same train and validation set\n",
    "# test size 0.2 will keep 20% data in validation and remaining 80% in train set\n",
    "X_train,X_test,y_train,y_test = train_test_split(X,y,test_size = 0.2,random_state=10)\n",
    "print(X.shape,X_train.shape,X_test.shape)"
   ],
   "metadata": {
    "collapsed": false,
    "ExecuteTime": {
     "end_time": "2023-11-13T21:47:13.475527300Z",
     "start_time": "2023-11-13T21:47:13.099260200Z"
    }
   },
   "id": "b98f8fff678a2eb1"
  },
  {
   "cell_type": "code",
   "execution_count": 22,
   "outputs": [
    {
     "data": {
      "text/plain": "(8523, 10)"
     },
     "execution_count": 22,
     "metadata": {},
     "output_type": "execute_result"
    }
   ],
   "source": [
    "X.shape"
   ],
   "metadata": {
    "collapsed": false,
    "ExecuteTime": {
     "end_time": "2023-11-13T21:47:13.477531200Z",
     "start_time": "2023-11-13T21:47:13.130955200Z"
    }
   },
   "id": "e3b4c3fbb3a55336"
  },
  {
   "cell_type": "markdown",
   "source": [
    "## Defining the architecture model"
   ],
   "metadata": {
    "collapsed": false
   },
   "id": "573f35d4fb2ee84a"
  },
  {
   "cell_type": "code",
   "execution_count": 23,
   "outputs": [],
   "source": [
    "from keras import Sequential\n",
    "from keras.layers import InputLayer,Dense\n",
    "input_neurons=X.shape[1]\n",
    "#Since its a hyperparameter model we can pick the hidden layers and hidden neurons on our own\n",
    "#Defining the hidden layer\n",
    "number_of_hidden_layers=2\n",
    "neurons_hidden_layers_1=10\n",
    "neurons_hidden_layers_2=5\n",
    "#Since Loan Prediction model is aq binary classification so we define the output layer =1\n",
    "output_neurons = 1"
   ],
   "metadata": {
    "collapsed": false,
    "ExecuteTime": {
     "end_time": "2023-11-13T21:47:13.537719600Z",
     "start_time": "2023-11-13T21:47:13.145479300Z"
    }
   },
   "id": "740357196717ac4b"
  },
  {
   "cell_type": "markdown",
   "source": [
    "## Activating Model"
   ],
   "metadata": {
    "collapsed": false
   },
   "id": "c1da7d1477ccf8e5"
  },
  {
   "cell_type": "code",
   "execution_count": 24,
   "outputs": [],
   "source": [
    "model=Sequential()\n",
    "model.add(InputLayer(input_shape=(input_neurons,)))\n",
    "model.add(Dense(units=neurons_hidden_layers_1,activation='relu'))\n",
    "model.add(Dense(units=neurons_hidden_layers_2,activation='relu'))\n",
    "model.add(Dense(units=output_neurons,activation='sigmoid'))"
   ],
   "metadata": {
    "collapsed": false,
    "ExecuteTime": {
     "end_time": "2023-11-13T21:47:16.191069100Z",
     "start_time": "2023-11-13T21:47:13.191085600Z"
    }
   },
   "id": "24a7a204928f8aec"
  },
  {
   "cell_type": "code",
   "execution_count": 25,
   "outputs": [
    {
     "name": "stdout",
     "output_type": "stream",
     "text": [
      "Model: \"sequential\"\n",
      "_________________________________________________________________\n",
      " Layer (type)                Output Shape              Param #   \n",
      "=================================================================\n",
      " dense (Dense)               (None, 10)                110       \n",
      "                                                                 \n",
      " dense_1 (Dense)             (None, 5)                 55        \n",
      "                                                                 \n",
      " dense_2 (Dense)             (None, 1)                 6         \n",
      "                                                                 \n",
      "=================================================================\n",
      "Total params: 171\n",
      "Trainable params: 171\n",
      "Non-trainable params: 0\n",
      "_________________________________________________________________\n"
     ]
    }
   ],
   "source": [
    "model.summary()"
   ],
   "metadata": {
    "collapsed": false,
    "ExecuteTime": {
     "end_time": "2023-11-13T21:47:16.308503100Z",
     "start_time": "2023-11-13T21:47:16.193053300Z"
    }
   },
   "id": "c852d8d47c0683e2"
  },
  {
   "cell_type": "raw",
   "source": [
    "1.the number of parameter in the hidden layer 1 is 110 because we have 10 features in input neurons and with 10 layers so (10*10=100)+bias of each neurons hideen layer\n",
    "2.5*10+5(bias)=55\n",
    "3.5+1(bias)=6"
   ],
   "metadata": {
    "collapsed": false
   },
   "id": "149ff24abc03b57d"
  },
  {
   "cell_type": "markdown",
   "source": [
    "## Compailing the model (Define loss function and optimiser)"
   ],
   "metadata": {
    "collapsed": false
   },
   "id": "d30398ec3e3fe2f1"
  },
  {
   "cell_type": "code",
   "execution_count": 26,
   "outputs": [],
   "source": [
    "# compiling the model\n",
    "\n",
    "# loss as binary_crossentropy, since we have binary classification problem\n",
    "# defining the optimizer as adam\n",
    "# Evaluation metric as accuracy\n",
    "model.compile(loss='binary_crossentropy',optimizer='Adam',metrics=['accuracy'])"
   ],
   "metadata": {
    "collapsed": false,
    "ExecuteTime": {
     "end_time": "2023-11-13T21:47:16.320633800Z",
     "start_time": "2023-11-13T21:47:16.237873300Z"
    }
   },
   "id": "7174e847ffa103b7"
  },
  {
   "cell_type": "markdown",
   "source": [
    "# Trainig the model"
   ],
   "metadata": {
    "collapsed": false
   },
   "id": "5537eb6ccb51ae2a"
  },
  {
   "cell_type": "code",
   "execution_count": 27,
   "outputs": [
    {
     "name": "stdout",
     "output_type": "stream",
     "text": [
      "Epoch 1/75\n",
      "214/214 [==============================] - 7s 12ms/step - loss: 0.4995 - accuracy: 1.4667e-04 - val_loss: 0.4514 - val_accuracy: 5.8651e-04\n",
      "Epoch 2/75\n",
      "214/214 [==============================] - 2s 10ms/step - loss: 0.4405 - accuracy: 1.4667e-04 - val_loss: 0.4343 - val_accuracy: 5.8651e-04\n",
      "Epoch 3/75\n",
      "214/214 [==============================] - 2s 9ms/step - loss: 0.4266 - accuracy: 1.4667e-04 - val_loss: 0.4231 - val_accuracy: 5.8651e-04\n",
      "Epoch 4/75\n",
      "214/214 [==============================] - 2s 10ms/step - loss: 0.4181 - accuracy: 1.4667e-04 - val_loss: 0.4179 - val_accuracy: 5.8651e-04\n",
      "Epoch 5/75\n",
      "214/214 [==============================] - 2s 8ms/step - loss: 0.4140 - accuracy: 1.4667e-04 - val_loss: 0.4152 - val_accuracy: 5.8651e-04\n",
      "Epoch 6/75\n",
      "214/214 [==============================] - 2s 7ms/step - loss: 0.4121 - accuracy: 1.4667e-04 - val_loss: 0.4139 - val_accuracy: 5.8651e-04\n",
      "Epoch 7/75\n",
      "214/214 [==============================] - 2s 7ms/step - loss: 0.4110 - accuracy: 1.4667e-04 - val_loss: 0.4129 - val_accuracy: 5.8651e-04\n",
      "Epoch 8/75\n",
      "214/214 [==============================] - 2s 7ms/step - loss: 0.4101 - accuracy: 1.4667e-04 - val_loss: 0.4121 - val_accuracy: 5.8651e-04\n",
      "Epoch 9/75\n",
      "214/214 [==============================] - 1s 7ms/step - loss: 0.4094 - accuracy: 1.4667e-04 - val_loss: 0.4120 - val_accuracy: 5.8651e-04\n",
      "Epoch 10/75\n",
      "214/214 [==============================] - 2s 7ms/step - loss: 0.4090 - accuracy: 1.4667e-04 - val_loss: 0.4110 - val_accuracy: 5.8651e-04\n",
      "Epoch 11/75\n",
      "214/214 [==============================] - 2s 7ms/step - loss: 0.4086 - accuracy: 1.4667e-04 - val_loss: 0.4110 - val_accuracy: 5.8651e-04\n",
      "Epoch 12/75\n",
      "214/214 [==============================] - 2s 8ms/step - loss: 0.4082 - accuracy: 1.4667e-04 - val_loss: 0.4103 - val_accuracy: 5.8651e-04\n",
      "Epoch 13/75\n",
      "214/214 [==============================] - 2s 7ms/step - loss: 0.4080 - accuracy: 1.4667e-04 - val_loss: 0.4103 - val_accuracy: 5.8651e-04\n",
      "Epoch 14/75\n",
      "214/214 [==============================] - 2s 7ms/step - loss: 0.4077 - accuracy: 1.4667e-04 - val_loss: 0.4104 - val_accuracy: 5.8651e-04\n",
      "Epoch 15/75\n",
      "214/214 [==============================] - 2s 8ms/step - loss: 0.4076 - accuracy: 1.4667e-04 - val_loss: 0.4099 - val_accuracy: 5.8651e-04\n",
      "Epoch 16/75\n",
      "214/214 [==============================] - 2s 8ms/step - loss: 0.4075 - accuracy: 1.4667e-04 - val_loss: 0.4108 - val_accuracy: 5.8651e-04\n",
      "Epoch 17/75\n",
      "214/214 [==============================] - 2s 8ms/step - loss: 0.4076 - accuracy: 1.4667e-04 - val_loss: 0.4101 - val_accuracy: 5.8651e-04\n",
      "Epoch 18/75\n",
      "214/214 [==============================] - 2s 10ms/step - loss: 0.4073 - accuracy: 1.4667e-04 - val_loss: 0.4098 - val_accuracy: 5.8651e-04\n",
      "Epoch 19/75\n",
      "214/214 [==============================] - 2s 8ms/step - loss: 0.4072 - accuracy: 1.4667e-04 - val_loss: 0.4100 - val_accuracy: 5.8651e-04\n",
      "Epoch 20/75\n",
      "214/214 [==============================] - 2s 8ms/step - loss: 0.4074 - accuracy: 1.4667e-04 - val_loss: 0.4097 - val_accuracy: 5.8651e-04\n",
      "Epoch 21/75\n",
      "214/214 [==============================] - 2s 8ms/step - loss: 0.4072 - accuracy: 1.4667e-04 - val_loss: 0.4096 - val_accuracy: 5.8651e-04\n",
      "Epoch 22/75\n",
      "214/214 [==============================] - 2s 8ms/step - loss: 0.4071 - accuracy: 1.4667e-04 - val_loss: 0.4098 - val_accuracy: 5.8651e-04\n",
      "Epoch 23/75\n",
      "214/214 [==============================] - 2s 8ms/step - loss: 0.4071 - accuracy: 1.4667e-04 - val_loss: 0.4095 - val_accuracy: 5.8651e-04\n",
      "Epoch 24/75\n",
      "214/214 [==============================] - 2s 8ms/step - loss: 0.4070 - accuracy: 1.4667e-04 - val_loss: 0.4099 - val_accuracy: 5.8651e-04\n",
      "Epoch 25/75\n",
      "214/214 [==============================] - 2s 7ms/step - loss: 0.4070 - accuracy: 1.4667e-04 - val_loss: 0.4095 - val_accuracy: 5.8651e-04\n",
      "Epoch 26/75\n",
      "214/214 [==============================] - 2s 8ms/step - loss: 0.4070 - accuracy: 1.4667e-04 - val_loss: 0.4095 - val_accuracy: 5.8651e-04\n",
      "Epoch 27/75\n",
      "214/214 [==============================] - 2s 7ms/step - loss: 0.4070 - accuracy: 1.4667e-04 - val_loss: 0.4097 - val_accuracy: 5.8651e-04\n",
      "Epoch 28/75\n",
      "214/214 [==============================] - 2s 7ms/step - loss: 0.4070 - accuracy: 1.4667e-04 - val_loss: 0.4095 - val_accuracy: 5.8651e-04\n",
      "Epoch 29/75\n",
      "214/214 [==============================] - 2s 8ms/step - loss: 0.4069 - accuracy: 1.4667e-04 - val_loss: 0.4099 - val_accuracy: 5.8651e-04\n",
      "Epoch 30/75\n",
      "214/214 [==============================] - 2s 10ms/step - loss: 0.4069 - accuracy: 1.4667e-04 - val_loss: 0.4095 - val_accuracy: 5.8651e-04\n",
      "Epoch 31/75\n",
      "214/214 [==============================] - 2s 10ms/step - loss: 0.4069 - accuracy: 1.4667e-04 - val_loss: 0.4096 - val_accuracy: 5.8651e-04\n",
      "Epoch 32/75\n",
      "214/214 [==============================] - 2s 10ms/step - loss: 0.4069 - accuracy: 1.4667e-04 - val_loss: 0.4100 - val_accuracy: 5.8651e-04\n",
      "Epoch 33/75\n",
      "214/214 [==============================] - 2s 9ms/step - loss: 0.4069 - accuracy: 1.4667e-04 - val_loss: 0.4096 - val_accuracy: 5.8651e-04\n",
      "Epoch 34/75\n",
      "214/214 [==============================] - 2s 9ms/step - loss: 0.4069 - accuracy: 1.4667e-04 - val_loss: 0.4094 - val_accuracy: 5.8651e-04\n",
      "Epoch 35/75\n",
      "214/214 [==============================] - 2s 9ms/step - loss: 0.4069 - accuracy: 1.4667e-04 - val_loss: 0.4095 - val_accuracy: 5.8651e-04\n",
      "Epoch 36/75\n",
      "214/214 [==============================] - 2s 9ms/step - loss: 0.4068 - accuracy: 1.4667e-04 - val_loss: 0.4095 - val_accuracy: 5.8651e-04\n",
      "Epoch 37/75\n",
      "214/214 [==============================] - 2s 9ms/step - loss: 0.4068 - accuracy: 1.4667e-04 - val_loss: 0.4096 - val_accuracy: 5.8651e-04\n",
      "Epoch 38/75\n",
      "214/214 [==============================] - 2s 9ms/step - loss: 0.4069 - accuracy: 1.4667e-04 - val_loss: 0.4095 - val_accuracy: 5.8651e-04\n",
      "Epoch 39/75\n",
      "214/214 [==============================] - 2s 11ms/step - loss: 0.4068 - accuracy: 1.4667e-04 - val_loss: 0.4095 - val_accuracy: 5.8651e-04\n",
      "Epoch 40/75\n",
      "214/214 [==============================] - 2s 9ms/step - loss: 0.4068 - accuracy: 1.4667e-04 - val_loss: 0.4094 - val_accuracy: 5.8651e-04\n",
      "Epoch 41/75\n",
      "214/214 [==============================] - 2s 9ms/step - loss: 0.4068 - accuracy: 1.4667e-04 - val_loss: 0.4095 - val_accuracy: 5.8651e-04\n",
      "Epoch 42/75\n",
      "214/214 [==============================] - 2s 9ms/step - loss: 0.4068 - accuracy: 1.4667e-04 - val_loss: 0.4097 - val_accuracy: 5.8651e-04\n",
      "Epoch 43/75\n",
      "214/214 [==============================] - 2s 10ms/step - loss: 0.4068 - accuracy: 1.4667e-04 - val_loss: 0.4095 - val_accuracy: 5.8651e-04\n",
      "Epoch 44/75\n",
      "214/214 [==============================] - 2s 9ms/step - loss: 0.4068 - accuracy: 1.4667e-04 - val_loss: 0.4094 - val_accuracy: 5.8651e-04\n",
      "Epoch 45/75\n",
      "214/214 [==============================] - 2s 9ms/step - loss: 0.4068 - accuracy: 1.4667e-04 - val_loss: 0.4094 - val_accuracy: 5.8651e-04\n",
      "Epoch 46/75\n",
      "214/214 [==============================] - 2s 9ms/step - loss: 0.4068 - accuracy: 1.4667e-04 - val_loss: 0.4097 - val_accuracy: 5.8651e-04\n",
      "Epoch 47/75\n",
      "214/214 [==============================] - 2s 9ms/step - loss: 0.4068 - accuracy: 1.4667e-04 - val_loss: 0.4101 - val_accuracy: 5.8651e-04\n",
      "Epoch 48/75\n",
      "214/214 [==============================] - 2s 10ms/step - loss: 0.4068 - accuracy: 1.4667e-04 - val_loss: 0.4095 - val_accuracy: 5.8651e-04\n",
      "Epoch 49/75\n",
      "214/214 [==============================] - 2s 9ms/step - loss: 0.4067 - accuracy: 1.4667e-04 - val_loss: 0.4095 - val_accuracy: 5.8651e-04\n",
      "Epoch 50/75\n",
      "214/214 [==============================] - 2s 10ms/step - loss: 0.4067 - accuracy: 1.4667e-04 - val_loss: 0.4095 - val_accuracy: 5.8651e-04\n",
      "Epoch 51/75\n",
      "214/214 [==============================] - 2s 10ms/step - loss: 0.4068 - accuracy: 1.4667e-04 - val_loss: 0.4096 - val_accuracy: 5.8651e-04\n",
      "Epoch 52/75\n",
      "214/214 [==============================] - 2s 9ms/step - loss: 0.4069 - accuracy: 1.4667e-04 - val_loss: 0.4095 - val_accuracy: 5.8651e-04\n",
      "Epoch 53/75\n",
      "214/214 [==============================] - 2s 9ms/step - loss: 0.4068 - accuracy: 1.4667e-04 - val_loss: 0.4095 - val_accuracy: 5.8651e-04\n",
      "Epoch 54/75\n",
      "214/214 [==============================] - 2s 9ms/step - loss: 0.4068 - accuracy: 1.4667e-04 - val_loss: 0.4095 - val_accuracy: 5.8651e-04\n",
      "Epoch 55/75\n",
      "214/214 [==============================] - 1s 7ms/step - loss: 0.4068 - accuracy: 1.4667e-04 - val_loss: 0.4094 - val_accuracy: 5.8651e-04\n",
      "Epoch 56/75\n",
      "214/214 [==============================] - 2s 7ms/step - loss: 0.4068 - accuracy: 1.4667e-04 - val_loss: 0.4094 - val_accuracy: 5.8651e-04\n",
      "Epoch 57/75\n",
      "214/214 [==============================] - 1s 7ms/step - loss: 0.4068 - accuracy: 1.4667e-04 - val_loss: 0.4094 - val_accuracy: 5.8651e-04\n",
      "Epoch 58/75\n",
      "214/214 [==============================] - 2s 10ms/step - loss: 0.4067 - accuracy: 1.4667e-04 - val_loss: 0.4095 - val_accuracy: 5.8651e-04\n",
      "Epoch 59/75\n",
      "214/214 [==============================] - 2s 9ms/step - loss: 0.4069 - accuracy: 1.4667e-04 - val_loss: 0.4095 - val_accuracy: 5.8651e-04\n",
      "Epoch 60/75\n",
      "214/214 [==============================] - 2s 10ms/step - loss: 0.4068 - accuracy: 1.4667e-04 - val_loss: 0.4097 - val_accuracy: 5.8651e-04\n",
      "Epoch 61/75\n",
      "214/214 [==============================] - 2s 10ms/step - loss: 0.4067 - accuracy: 1.4667e-04 - val_loss: 0.4094 - val_accuracy: 5.8651e-04\n",
      "Epoch 62/75\n",
      "214/214 [==============================] - 2s 9ms/step - loss: 0.4067 - accuracy: 1.4667e-04 - val_loss: 0.4096 - val_accuracy: 5.8651e-04\n",
      "Epoch 63/75\n",
      "214/214 [==============================] - 2s 9ms/step - loss: 0.4067 - accuracy: 1.4667e-04 - val_loss: 0.4098 - val_accuracy: 5.8651e-04\n",
      "Epoch 64/75\n",
      "214/214 [==============================] - 2s 10ms/step - loss: 0.4067 - accuracy: 1.4667e-04 - val_loss: 0.4094 - val_accuracy: 5.8651e-04\n",
      "Epoch 65/75\n",
      "214/214 [==============================] - 2s 9ms/step - loss: 0.4068 - accuracy: 1.4667e-04 - val_loss: 0.4097 - val_accuracy: 5.8651e-04\n",
      "Epoch 66/75\n",
      "214/214 [==============================] - 2s 8ms/step - loss: 0.4067 - accuracy: 1.4667e-04 - val_loss: 0.4096 - val_accuracy: 5.8651e-04\n",
      "Epoch 67/75\n",
      "214/214 [==============================] - 1s 7ms/step - loss: 0.4067 - accuracy: 1.4667e-04 - val_loss: 0.4095 - val_accuracy: 5.8651e-04\n",
      "Epoch 68/75\n",
      "214/214 [==============================] - 1s 7ms/step - loss: 0.4067 - accuracy: 1.4667e-04 - val_loss: 0.4101 - val_accuracy: 5.8651e-04\n",
      "Epoch 69/75\n",
      "214/214 [==============================] - 2s 9ms/step - loss: 0.4068 - accuracy: 1.4667e-04 - val_loss: 0.4093 - val_accuracy: 5.8651e-04\n",
      "Epoch 70/75\n",
      "214/214 [==============================] - 2s 10ms/step - loss: 0.4067 - accuracy: 1.4667e-04 - val_loss: 0.4100 - val_accuracy: 5.8651e-04\n",
      "Epoch 71/75\n",
      "214/214 [==============================] - 2s 10ms/step - loss: 0.4067 - accuracy: 1.4667e-04 - val_loss: 0.4096 - val_accuracy: 5.8651e-04\n",
      "Epoch 72/75\n",
      "214/214 [==============================] - 2s 9ms/step - loss: 0.4067 - accuracy: 1.4667e-04 - val_loss: 0.4096 - val_accuracy: 5.8651e-04\n",
      "Epoch 73/75\n",
      "214/214 [==============================] - 2s 10ms/step - loss: 0.4067 - accuracy: 1.4667e-04 - val_loss: 0.4095 - val_accuracy: 5.8651e-04\n",
      "Epoch 74/75\n",
      "214/214 [==============================] - 2s 10ms/step - loss: 0.4067 - accuracy: 1.4667e-04 - val_loss: 0.4094 - val_accuracy: 5.8651e-04\n",
      "Epoch 75/75\n",
      "214/214 [==============================] - 2s 9ms/step - loss: 0.4066 - accuracy: 1.4667e-04 - val_loss: 0.4094 - val_accuracy: 5.8651e-04\n"
     ]
    }
   ],
   "source": [
    "# training the model\n",
    "\n",
    "# passing the independent and dependent features for training set for training the model\n",
    "\n",
    "# validation data will be evaluated at the end of each epoch\n",
    "\n",
    "# setting the epochs as 50\n",
    "\n",
    "# storing the trained model in model_history variable which will be used to visualize the training process\n",
    "model_history=model.fit(X_train,y_train,validation_data=(X_test,y_test),epochs=75)"
   ],
   "metadata": {
    "collapsed": false,
    "ExecuteTime": {
     "end_time": "2023-11-13T21:49:41.807967400Z",
     "start_time": "2023-11-13T21:47:16.287708400Z"
    }
   },
   "id": "e9933fc48185db4c"
  },
  {
   "cell_type": "markdown",
   "source": [
    "## Evaluating the performance"
   ],
   "metadata": {
    "collapsed": false
   },
   "id": "82c7c7c0ef9a6e34"
  },
  {
   "cell_type": "code",
   "execution_count": 28,
   "outputs": [
    {
     "name": "stdout",
     "output_type": "stream",
     "text": [
      "54/54 [==============================] - 0s 3ms/step\n"
     ]
    }
   ],
   "source": [
    "# getting predictions for the validation set\n",
    "predictions=model.predict(X_test)"
   ],
   "metadata": {
    "collapsed": false,
    "ExecuteTime": {
     "end_time": "2023-11-13T21:49:42.483941300Z",
     "start_time": "2023-11-13T21:49:41.793765700Z"
    }
   },
   "id": "af4856dfc56b2473"
  },
  {
   "cell_type": "code",
   "execution_count": 29,
   "outputs": [
    {
     "name": "stdout",
     "output_type": "stream",
     "text": [
      "Mean Squared Error: 0.006749256477129458\n"
     ]
    }
   ],
   "source": [
    "# calculating the accuracy on validation set\n",
    "from sklearn.metrics import mean_squared_error\n",
    "mse = mean_squared_error(y_test, predictions)\n",
    "print(f'Mean Squared Error: {mse}')"
   ],
   "metadata": {
    "collapsed": false,
    "ExecuteTime": {
     "end_time": "2023-11-13T21:49:42.547704300Z",
     "start_time": "2023-11-13T21:49:42.487934Z"
    }
   },
   "id": "bc8c9a24c4aef94f"
  },
  {
   "cell_type": "code",
   "execution_count": 30,
   "outputs": [
    {
     "data": {
      "text/plain": "<Figure size 640x480 with 1 Axes>",
      "image/png": "[encoded data removed]"
     },
     "metadata": {},
     "output_type": "display_data"
    }
   ],
   "source": [
    "#summarise the history\n",
    "plt.plot(model_history.history['loss'])\n",
    "plt.plot(model_history.history['val_loss'])\n",
    "plt.title('model loss')\n",
    "plt.xlabel('Epoch')\n",
    "plt.ylabel('loss')\n",
    "plt.legend(['train','validation'],loc='upper right')\n",
    "plt.show()\n"
   ],
   "metadata": {
    "collapsed": false,
    "ExecuteTime": {
     "end_time": "2023-11-13T21:49:43.255419Z",
     "start_time": "2023-11-13T21:49:42.522613200Z"
    }
   },
   "id": "1efc3f0fc266904e"
  },
  {
   "cell_type": "code",
   "execution_count": 31,
   "outputs": [
    {
     "data": {
      "text/plain": "<Figure size 640x480 with 1 Axes>",
      "image/png": "[encoded data removed]"
     },
     "metadata": {},
     "output_type": "display_data"
    }
   ],
   "source": [
    "#summarise the history\n",
    "plt.plot(model_history.history['accuracy'])\n",
    "plt.plot(model_history.history['val_accuracy'])\n",
    "plt.title('model accuracy')\n",
    "plt.xlabel('Epoch')\n",
    "plt.ylabel('accuracy')\n",
    "plt.legend(['train','validation'],loc='upper left')\n",
    "plt.show()"
   ],
   "metadata": {
    "collapsed": false,
    "ExecuteTime": {
     "end_time": "2023-11-13T21:49:43.847934Z",
     "start_time": "2023-11-13T21:49:43.258434600Z"
    }
   },
   "id": "e702dbf03955a946"
  },
  {
   "cell_type": "code",
   "execution_count": 32,
   "outputs": [
    {
     "data": {
      "text/plain": "  Item_Identifier  Item_Weight Item_Fat_Content  Item_Visibility    Item_Type  \\\n0           FDW58       20.750          Low Fat         0.007565  Snack Foods   \n1           FDW14        8.300              reg         0.038428        Dairy   \n2           NCN55       14.600          Low Fat         0.099575       Others   \n3           FDQ58        7.315          Low Fat         0.015388  Snack Foods   \n4           FDY38          NaN          Regular         0.118599        Dairy   \n\n   Item_MRP Outlet_Identifier  Outlet_Establishment_Year Outlet_Size  \\\n0  107.8622            OUT049                       1999      Medium   \n1   87.3198            OUT017                       2007         NaN   \n2  241.7538            OUT010                       1998         NaN   \n3  155.0340            OUT017                       2007         NaN   \n4  234.2300            OUT027                       1985      Medium   \n\n  Outlet_Location_Type        Outlet_Type  \n0               Tier 1  Supermarket Type1  \n1               Tier 2  Supermarket Type1  \n2               Tier 3      Grocery Store  \n3               Tier 2  Supermarket Type1  \n4               Tier 3  Supermarket Type3  ",
      "text/html": "<div>\n<style scoped>\n    .dataframe tbody tr th:only-of-type {\n        vertical-align: middle;\n    }\n\n    .dataframe tbody tr th {\n        vertical-align: top;\n    }\n\n    .dataframe thead th {\n        text-align: right;\n    }\n</style>\n<table border=\"1\" class=\"dataframe\">\n  <thead>\n    <tr style=\"text-align: right;\">\n      <th></th>\n      <th>Item_Identifier</th>\n      <th>Item_Weight</th>\n      <th>Item_Fat_Content</th>\n      <th>Item_Visibility</th>\n      <th>Item_Type</th>\n      <th>Item_MRP</th>\n      <th>Outlet_Identifier</th>\n      <th>Outlet_Establishment_Year</th>\n      <th>Outlet_Size</th>\n      <th>Outlet_Location_Type</th>\n      <th>Outlet_Type</th>\n    </tr>\n  </thead>\n  <tbody>\n    <tr>\n      <th>0</th>\n      <td>FDW58</td>\n      <td>20.750</td>\n      <td>Low Fat</td>\n      <td>0.007565</td>\n      <td>Snack Foods</td>\n      <td>107.8622</td>\n      <td>OUT049</td>\n      <td>1999</td>\n      <td>Medium</td>\n      <td>Tier 1</td>\n      <td>Supermarket Type1</td>\n    </tr>\n    <tr>\n      <th>1</th>\n      <td>FDW14</td>\n      <td>8.300</td>\n      <td>reg</td>\n      <td>0.038428</td>\n      <td>Dairy</td>\n      <td>87.3198</td>\n      <td>OUT017</td>\n      <td>2007</td>\n      <td>NaN</td>\n      <td>Tier 2</td>\n      <td>Supermarket Type1</td>\n    </tr>\n    <tr>\n      <th>2</th>\n      <td>NCN55</td>\n      <td>14.600</td>\n      <td>Low Fat</td>\n      <td>0.099575</td>\n      <td>Others</td>\n      <td>241.7538</td>\n      <td>OUT010</td>\n      <td>1998</td>\n      <td>NaN</td>\n      <td>Tier 3</td>\n      <td>Grocery Store</td>\n    </tr>\n    <tr>\n      <th>3</th>\n      <td>FDQ58</td>\n      <td>7.315</td>\n      <td>Low Fat</td>\n      <td>0.015388</td>\n      <td>Snack Foods</td>\n      <td>155.0340</td>\n      <td>OUT017</td>\n      <td>2007</td>\n      <td>NaN</td>\n      <td>Tier 2</td>\n      <td>Supermarket Type1</td>\n    </tr>\n    <tr>\n      <th>4</th>\n      <td>FDY38</td>\n      <td>NaN</td>\n      <td>Regular</td>\n      <td>0.118599</td>\n      <td>Dairy</td>\n      <td>234.2300</td>\n      <td>OUT027</td>\n      <td>1985</td>\n      <td>Medium</td>\n      <td>Tier 3</td>\n      <td>Supermarket Type3</td>\n    </tr>\n  </tbody>\n</table>\n</div>"
     },
     "execution_count": 32,
     "metadata": {},
     "output_type": "execute_result"
    }
   ],
   "source": [
    "test=pd.read_csv('Data/test_FewQE9B.csv')\n",
    "test.head()"
   ],
   "metadata": {
    "collapsed": false,
    "ExecuteTime": {
     "end_time": "2023-11-13T21:49:43.988259200Z",
     "start_time": "2023-11-13T21:49:43.872365600Z"
    }
   },
   "id": "147d76835ae6a2ec"
  },
  {
   "cell_type": "code",
   "execution_count": 32,
   "outputs": [],
   "source": [],
   "metadata": {
    "collapsed": false,
    "ExecuteTime": {
     "end_time": "2023-11-13T21:49:43.988259200Z",
     "start_time": "2023-11-13T21:49:43.944475500Z"
    }
   },
   "id": "af8752fb04ad5675"
  }
 ],
 "metadata": {
  "kernelspec": {
   "display_name": "Python 3",
   "language": "python",
   "name": "python3"
  },
  "language_info": {
   "codemirror_mode": {
    "name": "ipython",
    "version": 2
   },
   "file_extension": ".py",
   "mimetype": "text/x-python",
   "name": "python",
   "nbconvert_exporter": "python",
   "pygments_lexer": "ipython2",
   "version": "2.7.6"
  }
 },
 "nbformat": 4,
 "nbformat_minor": 5
}
